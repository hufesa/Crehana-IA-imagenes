{
  "nbformat": 4,
  "nbformat_minor": 0,
  "metadata": {
    "colab": {
      "name": "Plantilla_NN_CIFAR100",
      "provenance": [],
      "include_colab_link": true
    },
    "kernelspec": {
      "name": "python3",
      "display_name": "Python 3"
    },
    "language_info": {
      "name": "python"
    },
    "accelerator": "GPU"
  },
  "cells": [
    {
      "cell_type": "markdown",
      "metadata": {
        "id": "view-in-github",
        "colab_type": "text"
      },
      "source": [
        "<a href=\"https://colab.research.google.com/github/hufesa/Crehana-IA-imagenes/blob/main/Plantilla_NN_CIFAR100.ipynb\" target=\"_parent\"><img src=\"https://colab.research.google.com/assets/colab-badge.svg\" alt=\"Open In Colab\"/></a>"
      ]
    },
    {
      "cell_type": "markdown",
      "metadata": {
        "id": "UMrlHeCBNkJ_"
      },
      "source": [
        "# Importando librerías"
      ]
    },
    {
      "cell_type": "code",
      "metadata": {
        "id": "TAsGPk9aNImT"
      },
      "source": [
        "import numpy as np\n",
        "import matplotlib.pyplot as plt"
      ],
      "execution_count": 2,
      "outputs": []
    },
    {
      "cell_type": "markdown",
      "metadata": {
        "id": "cir4w5Y8OE6u"
      },
      "source": [
        "# Carga de Datos"
      ]
    },
    {
      "cell_type": "markdown",
      "metadata": {
        "id": "UEtDo0VDyLMt"
      },
      "source": [
        "Importamos las librerías que utilziaremos para cargar los datos para la red neuronal:"
      ]
    },
    {
      "cell_type": "code",
      "metadata": {
        "id": "fIPzj3uuyKXr"
      },
      "source": [
        "from keras.datasets import cifar10\n",
        "from keras import layers, models\n"
      ],
      "execution_count": 3,
      "outputs": []
    },
    {
      "cell_type": "markdown",
      "metadata": {
        "id": "Q_hcvmLINuhF"
      },
      "source": [
        "Corre la siguiente linea para cargar tu dataset"
      ]
    },
    {
      "cell_type": "code",
      "metadata": {
        "id": "Qdw6fXueNn9x",
        "outputId": "62df105d-b5c7-4584-8a13-8b1fecce4a58",
        "colab": {
          "base_uri": "https://localhost:8080/"
        }
      },
      "source": [
        "(train_data, train_labels), (test_data, test_labels) = cifar10.load_data()"
      ],
      "execution_count": 4,
      "outputs": [
        {
          "output_type": "stream",
          "name": "stdout",
          "text": [
            "Downloading data from https://www.cs.toronto.edu/~kriz/cifar-10-python.tar.gz\n",
            "\u001b[1m170498071/170498071\u001b[0m \u001b[32m━━━━━━━━━━━━━━━━━━━━\u001b[0m\u001b[37m\u001b[0m \u001b[1m4s\u001b[0m 0us/step\n"
          ]
        }
      ]
    },
    {
      "cell_type": "markdown",
      "metadata": {
        "id": "jnFR0ELfNzdX"
      },
      "source": [
        "Revisa las dimensiones de tus datos"
      ]
    },
    {
      "cell_type": "code",
      "metadata": {
        "id": "t6HIYi9oOUNX",
        "outputId": "8d6191cb-3c99-4854-e7be-1ce19425b75c",
        "colab": {
          "base_uri": "https://localhost:8080/"
        }
      },
      "source": [
        "train_data.shape"
      ],
      "execution_count": 5,
      "outputs": [
        {
          "output_type": "execute_result",
          "data": {
            "text/plain": [
              "(50000, 32, 32, 3)"
            ]
          },
          "metadata": {},
          "execution_count": 5
        }
      ]
    },
    {
      "cell_type": "markdown",
      "metadata": {
        "id": "RVGL5K4GNr29"
      },
      "source": [
        "Abre el primer registro de train"
      ]
    },
    {
      "cell_type": "code",
      "metadata": {
        "id": "cYi6ZplLOXc1",
        "outputId": "0835387c-2a7d-40b2-daba-871a5eab5f3d",
        "colab": {
          "base_uri": "https://localhost:8080/",
          "height": 72
        }
      },
      "source": [
        "train_data[10]"
      ],
      "execution_count": 6,
      "outputs": [
        {
          "output_type": "execute_result",
          "data": {
            "text/plain": [
              "array([[[53, 65, 53],\n",
              "        [54, 63, 52],\n",
              "        [56, 60, 50],\n",
              "        ...,\n",
              "        [47, 51, 50],\n",
              "        [41, 45, 44],\n",
              "        [24, 28, 27]],\n",
              "\n",
              "       [[46, 59, 41],\n",
              "        [53, 62, 45],\n",
              "        [54, 59, 44],\n",
              "        ...,\n",
              "        [42, 46, 45],\n",
              "        [39, 43, 42],\n",
              "        [28, 32, 31]],\n",
              "\n",
              "       [[45, 59, 38],\n",
              "        [50, 60, 41],\n",
              "        [46, 52, 34],\n",
              "        ...,\n",
              "        [38, 42, 41],\n",
              "        [36, 40, 39],\n",
              "        [29, 33, 32]],\n",
              "\n",
              "       ...,\n",
              "\n",
              "       [[71, 83, 66],\n",
              "        [74, 83, 66],\n",
              "        [80, 85, 67],\n",
              "        ...,\n",
              "        [51, 54, 33],\n",
              "        [46, 49, 34],\n",
              "        [49, 50, 41]],\n",
              "\n",
              "       [[75, 82, 67],\n",
              "        [79, 85, 69],\n",
              "        [81, 85, 67],\n",
              "        ...,\n",
              "        [61, 65, 41],\n",
              "        [64, 67, 48],\n",
              "        [48, 50, 41]],\n",
              "\n",
              "       [[85, 83, 71],\n",
              "        [85, 84, 71],\n",
              "        [86, 86, 70],\n",
              "        ...,\n",
              "        [61, 65, 39],\n",
              "        [64, 67, 46],\n",
              "        [49, 50, 41]]], dtype=uint8)"
            ],
            "text/html": [
              "<style>\n",
              "      .ndarray_repr .ndarray_raw_data {\n",
              "        display: none;\n",
              "      }\n",
              "      .ndarray_repr.show_array .ndarray_raw_data {\n",
              "        display: block;\n",
              "      }\n",
              "      .ndarray_repr.show_array .ndarray_image_preview {\n",
              "        display: none;\n",
              "      }\n",
              "      </style>\n",
              "      <div id=\"id-58df26f5-2e32-4124-8aea-d07296cd6fac\" class=\"ndarray_repr\"><pre>ndarray (32, 32, 3) <button style=\"padding: 0 2px;\">show data</button></pre><img src=\"data:image/png;base64,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\" class=\"ndarray_image_preview\" /><pre class=\"ndarray_raw_data\">array([[[53, 65, 53],\n",
              "        [54, 63, 52],\n",
              "        [56, 60, 50],\n",
              "        ...,\n",
              "        [47, 51, 50],\n",
              "        [41, 45, 44],\n",
              "        [24, 28, 27]],\n",
              "\n",
              "       [[46, 59, 41],\n",
              "        [53, 62, 45],\n",
              "        [54, 59, 44],\n",
              "        ...,\n",
              "        [42, 46, 45],\n",
              "        [39, 43, 42],\n",
              "        [28, 32, 31]],\n",
              "\n",
              "       [[45, 59, 38],\n",
              "        [50, 60, 41],\n",
              "        [46, 52, 34],\n",
              "        ...,\n",
              "        [38, 42, 41],\n",
              "        [36, 40, 39],\n",
              "        [29, 33, 32]],\n",
              "\n",
              "       ...,\n",
              "\n",
              "       [[71, 83, 66],\n",
              "        [74, 83, 66],\n",
              "        [80, 85, 67],\n",
              "        ...,\n",
              "        [51, 54, 33],\n",
              "        [46, 49, 34],\n",
              "        [49, 50, 41]],\n",
              "\n",
              "       [[75, 82, 67],\n",
              "        [79, 85, 69],\n",
              "        [81, 85, 67],\n",
              "        ...,\n",
              "        [61, 65, 41],\n",
              "        [64, 67, 48],\n",
              "        [48, 50, 41]],\n",
              "\n",
              "       [[85, 83, 71],\n",
              "        [85, 84, 71],\n",
              "        [86, 86, 70],\n",
              "        ...,\n",
              "        [61, 65, 39],\n",
              "        [64, 67, 46],\n",
              "        [49, 50, 41]]], dtype=uint8)</pre></div><script>\n",
              "      (() => {\n",
              "      const titles = ['show data', 'hide data'];\n",
              "      let index = 0\n",
              "      document.querySelector('#id-58df26f5-2e32-4124-8aea-d07296cd6fac button').onclick = (e) => {\n",
              "        document.querySelector('#id-58df26f5-2e32-4124-8aea-d07296cd6fac').classList.toggle('show_array');\n",
              "        index = (++index) % 2;\n",
              "        document.querySelector('#id-58df26f5-2e32-4124-8aea-d07296cd6fac button').textContent = titles[index];\n",
              "        e.preventDefault();\n",
              "        e.stopPropagation();\n",
              "      }\n",
              "      })();\n",
              "    </script>"
            ]
          },
          "metadata": {},
          "execution_count": 6
        }
      ]
    },
    {
      "cell_type": "markdown",
      "metadata": {
        "id": "izrYrtdkNnQp"
      },
      "source": [
        "Visualiza la primer imagen del dataset"
      ]
    },
    {
      "cell_type": "code",
      "metadata": {
        "id": "E--kFy-0OdTD",
        "outputId": "fd4035fe-7c18-49ae-89f9-9c138c57fae4",
        "colab": {
          "base_uri": "https://localhost:8080/",
          "height": 600
        }
      },
      "source": [
        "plt.imshow(train_data[10])\n",
        "plt.show"
      ],
      "execution_count": 7,
      "outputs": [
        {
          "output_type": "execute_result",
          "data": {
            "text/plain": [
              "<function matplotlib.pyplot.show(close=None, block=None)>"
            ],
            "text/html": [
              "<div style=\"max-width:800px; border: 1px solid var(--colab-border-color);\"><style>\n",
              "      pre.function-repr-contents {\n",
              "        overflow-x: auto;\n",
              "        padding: 8px 12px;\n",
              "        max-height: 500px;\n",
              "      }\n",
              "\n",
              "      pre.function-repr-contents.function-repr-contents-collapsed {\n",
              "        cursor: pointer;\n",
              "        max-height: 100px;\n",
              "      }\n",
              "    </style>\n",
              "    <pre style=\"white-space: initial; background:\n",
              "         var(--colab-secondary-surface-color); padding: 8px 12px;\n",
              "         border-bottom: 1px solid var(--colab-border-color);\"><b>matplotlib.pyplot.show</b><br/>def show(*args, **kwargs) -&gt; None</pre><pre class=\"function-repr-contents function-repr-contents-collapsed\" style=\"\"><a class=\"filepath\" style=\"display:none\" href=\"#\">/usr/local/lib/python3.12/dist-packages/matplotlib/pyplot.py</a>Display all open figures.\n",
              "\n",
              "Parameters\n",
              "----------\n",
              "block : bool, optional\n",
              "    Whether to wait for all figures to be closed before returning.\n",
              "\n",
              "    If `True` block and run the GUI main loop until all figure windows\n",
              "    are closed.\n",
              "\n",
              "    If `False` ensure that all figure windows are displayed and return\n",
              "    immediately.  In this case, you are responsible for ensuring\n",
              "    that the event loop is running to have responsive figures.\n",
              "\n",
              "    Defaults to True in non-interactive mode and to False in interactive\n",
              "    mode (see `.pyplot.isinteractive`).\n",
              "\n",
              "See Also\n",
              "--------\n",
              "ion : Enable interactive mode, which shows / updates the figure after\n",
              "      every plotting command, so that calling ``show()`` is not necessary.\n",
              "ioff : Disable interactive mode.\n",
              "savefig : Save the figure to an image file instead of showing it on screen.\n",
              "\n",
              "Notes\n",
              "-----\n",
              "**Saving figures to file and showing a window at the same time**\n",
              "\n",
              "If you want an image file as well as a user interface window, use\n",
              "`.pyplot.savefig` before `.pyplot.show`. At the end of (a blocking)\n",
              "``show()`` the figure is closed and thus unregistered from pyplot. Calling\n",
              "`.pyplot.savefig` afterwards would save a new and thus empty figure. This\n",
              "limitation of command order does not apply if the show is non-blocking or\n",
              "if you keep a reference to the figure and use `.Figure.savefig`.\n",
              "\n",
              "**Auto-show in jupyter notebooks**\n",
              "\n",
              "The jupyter backends (activated via ``%matplotlib inline``,\n",
              "``%matplotlib notebook``, or ``%matplotlib widget``), call ``show()`` at\n",
              "the end of every cell by default. Thus, you usually don&#x27;t have to call it\n",
              "explicitly there.</pre>\n",
              "      <script>\n",
              "      if (google.colab.kernel.accessAllowed && google.colab.files && google.colab.files.view) {\n",
              "        for (const element of document.querySelectorAll('.filepath')) {\n",
              "          element.style.display = 'block'\n",
              "          element.onclick = (event) => {\n",
              "            event.preventDefault();\n",
              "            event.stopPropagation();\n",
              "            google.colab.files.view(element.textContent, 569);\n",
              "          };\n",
              "        }\n",
              "      }\n",
              "      for (const element of document.querySelectorAll('.function-repr-contents')) {\n",
              "        element.onclick = (event) => {\n",
              "          event.preventDefault();\n",
              "          event.stopPropagation();\n",
              "          element.classList.toggle('function-repr-contents-collapsed');\n",
              "        };\n",
              "      }\n",
              "      </script>\n",
              "      </div>"
            ]
          },
          "metadata": {},
          "execution_count": 7
        },
        {
          "output_type": "display_data",
          "data": {
            "text/plain": [
              "<Figure size 640x480 with 1 Axes>"
            ],
            "image/png": "[encoded data removed]"
          },
          "metadata": {}
        }
      ]
    },
    {
      "cell_type": "code",
      "metadata": {
        "id": "So39rwCWOqnW",
        "outputId": "aac1cd32-cc96-4c4d-cd84-6c0dbede5b82",
        "colab": {
          "base_uri": "https://localhost:8080/"
        }
      },
      "source": [
        "train_labels[10]"
      ],
      "execution_count": 8,
      "outputs": [
        {
          "output_type": "execute_result",
          "data": {
            "text/plain": [
              "array([4], dtype=uint8)"
            ]
          },
          "metadata": {},
          "execution_count": 8
        }
      ]
    },
    {
      "cell_type": "markdown",
      "metadata": {
        "id": "iRcQmSEEPGnt"
      },
      "source": [
        "# Modelo"
      ]
    },
    {
      "cell_type": "markdown",
      "metadata": {
        "id": "5az-FyQgNec7"
      },
      "source": [
        "Crea tu red neuronal con una forma de 32*32 px"
      ]
    },
    {
      "cell_type": "code",
      "metadata": {
        "id": "O4f8FPuaOquR",
        "outputId": "abe90ee4-8fa9-4cf7-9e20-0238a202b14d",
        "colab": {
          "base_uri": "https://localhost:8080/"
        }
      },
      "source": [
        "model = models.Sequential()\n",
        "model.add(layers.Dense(512, activation='relu', input_shape=(32*32,))) #Tenemos 512 neuronas de entrada, que tienen una forma de 32*32 px\n",
        "model.add(layers.Dense(10, activation = 'softmax')) #10 neuronas de la posible salida"
      ],
      "execution_count": 9,
      "outputs": [
        {
          "output_type": "stream",
          "name": "stderr",
          "text": [
            "/usr/local/lib/python3.12/dist-packages/keras/src/layers/core/dense.py:93: UserWarning: Do not pass an `input_shape`/`input_dim` argument to a layer. When using Sequential models, prefer using an `Input(shape)` object as the first layer in the model instead.\n",
            "  super().__init__(activity_regularizer=activity_regularizer, **kwargs)\n"
          ]
        }
      ]
    },
    {
      "cell_type": "code",
      "metadata": {
        "id": "byDAbuTPOq2F"
      },
      "source": [
        "model.compile(optimizer='rmsprop',\n",
        "              loss = 'categorical_crossentropy', #Función de pérdida\n",
        "              metrics = ['accuracy'] #Variable a optimizar\n",
        ")"
      ],
      "execution_count": 10,
      "outputs": []
    },
    {
      "cell_type": "markdown",
      "metadata": {
        "id": "x7qvgtuHQhJv"
      },
      "source": [
        "# Transformación de datos"
      ]
    },
    {
      "cell_type": "markdown",
      "metadata": {
        "id": "8Y4bW00xNTJV"
      },
      "source": [
        "Ejecuta la carga de datos para el train y test"
      ]
    },
    {
      "cell_type": "code",
      "metadata": {
        "id": "5W8wXfQiKwn2"
      },
      "source": [
        "(x_train, y_train), (x_test, y_test) = cifar10.load_data()"
      ],
      "execution_count": 11,
      "outputs": []
    },
    {
      "cell_type": "markdown",
      "metadata": {
        "id": "2BhrmSCeNXDm"
      },
      "source": [
        "Revisa las dimensiones de los datos"
      ]
    },
    {
      "cell_type": "code",
      "metadata": {
        "id": "Vi0E7O6ULj0W",
        "colab": {
          "base_uri": "https://localhost:8080/"
        },
        "outputId": "0a02e761-b239-4058-baa9-3575ab01aae5"
      },
      "source": [
        "train_data.shape\n",
        "test_data.shape\n"
      ],
      "execution_count": 21,
      "outputs": [
        {
          "output_type": "execute_result",
          "data": {
            "text/plain": [
              "(10000, 32, 32, 3)"
            ]
          },
          "metadata": {},
          "execution_count": 21
        }
      ]
    },
    {
      "cell_type": "markdown",
      "metadata": {
        "id": "8VO6IhgBNKUY"
      },
      "source": [
        "Haz un reshape para x_test y x_train\n",
        "\n",
        "\n"
      ]
    },
    {
      "cell_type": "code",
      "metadata": {
        "id": "QIZuINz3QfKP"
      },
      "source": [
        "x_train = train_data.reshape((150000, 32*32))\n",
        "x_train = x_train.astype('float32')/255"
      ],
      "execution_count": 19,
      "outputs": []
    },
    {
      "cell_type": "code",
      "metadata": {
        "id": "bYPJXkSly_w3"
      },
      "source": [
        "x_test = test_data.reshape(30000, 32*32)\n",
        "x_test = x_test.astype('float32')/255"
      ],
      "execution_count": 23,
      "outputs": []
    },
    {
      "cell_type": "markdown",
      "metadata": {
        "id": "P1XlSCv-NGck"
      },
      "source": [
        "Importa la librería \"to_categorical\" de tensorflow"
      ]
    },
    {
      "cell_type": "code",
      "metadata": {
        "id": "6sTCJAsOzH8d"
      },
      "source": [
        "from tensorflow.keras.utils import to_categorical"
      ],
      "execution_count": 24,
      "outputs": []
    },
    {
      "cell_type": "markdown",
      "metadata": {
        "id": "apc62nDHNC55"
      },
      "source": [
        "Convierte a categoricas las variables de y_train y y_test"
      ]
    },
    {
      "cell_type": "code",
      "metadata": {
        "id": "EHs-W4jYRGFd"
      },
      "source": [
        "y_train = to_categorical(train_labels)\n",
        "y_test = to_categorical(test_labels)\n",
        "\n"
      ],
      "execution_count": 33,
      "outputs": []
    },
    {
      "cell_type": "markdown",
      "metadata": {
        "id": "AXAyIg43MVu0"
      },
      "source": [
        "Imprime el primer registro de las etiquetas de train\n",
        "Considera que es un vector [x,x]"
      ]
    },
    {
      "cell_type": "code",
      "metadata": {
        "id": "6GeH8gHPRZDd",
        "outputId": "413b7880-7161-4e02-bd5c-3eb0ffea93a7",
        "colab": {
          "base_uri": "https://localhost:8080/"
        }
      },
      "source": [
        "train_labels[0,0]"
      ],
      "execution_count": 46,
      "outputs": [
        {
          "output_type": "execute_result",
          "data": {
            "text/plain": [
              "np.uint8(6)"
            ]
          },
          "metadata": {},
          "execution_count": 46
        }
      ]
    },
    {
      "cell_type": "code",
      "metadata": {
        "id": "leTw4woJMmBz",
        "outputId": "0773b8f3-da5b-4bad-8301-e550145ad59a",
        "colab": {
          "base_uri": "https://localhost:8080/"
        }
      },
      "source": [
        "y_train[0,0]"
      ],
      "execution_count": 47,
      "outputs": [
        {
          "output_type": "execute_result",
          "data": {
            "text/plain": [
              "np.float64(0.0)"
            ]
          },
          "metadata": {},
          "execution_count": 47
        }
      ]
    },
    {
      "cell_type": "markdown",
      "metadata": {
        "id": "aCx6FHK5RzhT"
      },
      "source": [
        "# Entrenamiento"
      ]
    },
    {
      "cell_type": "markdown",
      "metadata": {
        "id": "bERBdh9JzToQ"
      },
      "source": [
        "Iteraciones de las épocas"
      ]
    },
    {
      "cell_type": "code",
      "metadata": {
        "id": "qZLxOUukRtTF",
        "outputId": "b2733418-5c8f-4288-9691-048ee6cc6709",
        "colab": {
          "base_uri": "https://localhost:8080/",
          "height": 443
        }
      },
      "source": [
        "model.fit(x_train, y_train, epochs=5, batch_size=128)"
      ],
      "execution_count": 43,
      "outputs": [
        {
          "output_type": "stream",
          "name": "stdout",
          "text": [
            "Epoch 1/5\n"
          ]
        },
        {
          "output_type": "error",
          "ename": "ValueError",
          "evalue": "Exception encountered when calling Sequential.call().\n\n\u001b[1mInput 0 of layer \"dense\" is incompatible with the layer: expected axis -1 of input shape to have value 1024, but received input with shape (None, 10)\u001b[0m\n\nArguments received by Sequential.call():\n  • inputs=tf.Tensor(shape=(None, 10), dtype=float32)\n  • training=True\n  • mask=None\n  • kwargs=<class 'inspect._empty'>",
          "traceback": [
            "\u001b[0;31m---------------------------------------------------------------------------\u001b[0m",
            "\u001b[0;31mValueError\u001b[0m                                Traceback (most recent call last)",
            "\u001b[0;32m/tmp/ipython-input-2293138449.py\u001b[0m in \u001b[0;36m<cell line: 0>\u001b[0;34m()\u001b[0m\n\u001b[0;32m----> 1\u001b[0;31m \u001b[0mmodel\u001b[0m\u001b[0;34m.\u001b[0m\u001b[0mfit\u001b[0m\u001b[0;34m(\u001b[0m\u001b[0mx_train\u001b[0m\u001b[0;34m,\u001b[0m \u001b[0my_train\u001b[0m\u001b[0;34m,\u001b[0m \u001b[0mepochs\u001b[0m\u001b[0;34m=\u001b[0m\u001b[0;36m5\u001b[0m\u001b[0;34m,\u001b[0m \u001b[0mbatch_size\u001b[0m\u001b[0;34m=\u001b[0m\u001b[0;36m128\u001b[0m\u001b[0;34m)\u001b[0m\u001b[0;34m\u001b[0m\u001b[0;34m\u001b[0m\u001b[0m\n\u001b[0m",
            "\u001b[0;32m/usr/local/lib/python3.12/dist-packages/keras/src/utils/traceback_utils.py\u001b[0m in \u001b[0;36merror_handler\u001b[0;34m(*args, **kwargs)\u001b[0m\n\u001b[1;32m    120\u001b[0m             \u001b[0;31m# To get the full stack trace, call:\u001b[0m\u001b[0;34m\u001b[0m\u001b[0;34m\u001b[0m\u001b[0m\n\u001b[1;32m    121\u001b[0m             \u001b[0;31m# `keras.config.disable_traceback_filtering()`\u001b[0m\u001b[0;34m\u001b[0m\u001b[0;34m\u001b[0m\u001b[0m\n\u001b[0;32m--> 122\u001b[0;31m             \u001b[0;32mraise\u001b[0m \u001b[0me\u001b[0m\u001b[0;34m.\u001b[0m\u001b[0mwith_traceback\u001b[0m\u001b[0;34m(\u001b[0m\u001b[0mfiltered_tb\u001b[0m\u001b[0;34m)\u001b[0m \u001b[0;32mfrom\u001b[0m \u001b[0;32mNone\u001b[0m\u001b[0;34m\u001b[0m\u001b[0;34m\u001b[0m\u001b[0m\n\u001b[0m\u001b[1;32m    123\u001b[0m         \u001b[0;32mfinally\u001b[0m\u001b[0;34m:\u001b[0m\u001b[0;34m\u001b[0m\u001b[0;34m\u001b[0m\u001b[0m\n\u001b[1;32m    124\u001b[0m             \u001b[0;32mdel\u001b[0m \u001b[0mfiltered_tb\u001b[0m\u001b[0;34m\u001b[0m\u001b[0;34m\u001b[0m\u001b[0m\n",
            "\u001b[0;32m/usr/local/lib/python3.12/dist-packages/keras/src/layers/input_spec.py\u001b[0m in \u001b[0;36massert_input_compatibility\u001b[0;34m(input_spec, inputs, layer_name)\u001b[0m\n\u001b[1;32m    225\u001b[0m                     \u001b[0;32mNone\u001b[0m\u001b[0;34m,\u001b[0m\u001b[0;34m\u001b[0m\u001b[0;34m\u001b[0m\u001b[0m\n\u001b[1;32m    226\u001b[0m                 }:\n\u001b[0;32m--> 227\u001b[0;31m                     raise ValueError(\n\u001b[0m\u001b[1;32m    228\u001b[0m                         \u001b[0;34mf'Input {input_index} of layer \"{layer_name}\" is '\u001b[0m\u001b[0;34m\u001b[0m\u001b[0;34m\u001b[0m\u001b[0m\n\u001b[1;32m    229\u001b[0m                         \u001b[0;34mf\"incompatible with the layer: expected axis {axis} \"\u001b[0m\u001b[0;34m\u001b[0m\u001b[0;34m\u001b[0m\u001b[0m\n",
            "\u001b[0;31mValueError\u001b[0m: Exception encountered when calling Sequential.call().\n\n\u001b[1mInput 0 of layer \"dense\" is incompatible with the layer: expected axis -1 of input shape to have value 1024, but received input with shape (None, 10)\u001b[0m\n\nArguments received by Sequential.call():\n  • inputs=tf.Tensor(shape=(None, 10), dtype=float32)\n  • training=True\n  • mask=None\n  • kwargs=<class 'inspect._empty'>"
          ]
        }
      ]
    },
    {
      "cell_type": "markdown",
      "metadata": {
        "id": "rynTRzB6SMgs"
      },
      "source": [
        "# Evaluación"
      ]
    },
    {
      "cell_type": "markdown",
      "metadata": {
        "id": "IQIaazvJM1lM"
      },
      "source": [
        "Evalua el set de train y el set de test"
      ]
    },
    {
      "cell_type": "code",
      "metadata": {
        "id": "JCnpuP4fSGmQ"
      },
      "source": [],
      "execution_count": null,
      "outputs": []
    },
    {
      "cell_type": "code",
      "metadata": {
        "id": "LPYfHm4QSR9w"
      },
      "source": [],
      "execution_count": null,
      "outputs": []
    }
  ]
}